{
 "cells": [
  {
   "cell_type": "markdown",
   "id": "8624dfca",
   "metadata": {},
   "source": [
    "Create a dataset from 3 numpy files"
   ]
  },
  {
   "cell_type": "markdown",
   "id": "f87b7d0f",
   "metadata": {},
   "source": [
    "Import numpy file for each shape"
   ]
  },
  {
   "cell_type": "code",
   "execution_count": 1,
   "id": "d8e5c10f",
   "metadata": {},
   "outputs": [
    {
     "name": "stdout",
     "output_type": "stream",
     "text": [
      "(14, 128, 128)\n",
      "(14, 128, 128)\n",
      "(16, 128, 128)\n"
     ]
    }
   ],
   "source": [
    "import numpy as np\n",
    "circle = np.load(\"../data/mini_dataset/circle/circle_data_preprocess.npy\")    # (N1, 128, 128)\n",
    "square = np.load(\"../data/mini_dataset/square/square_data_preprocess.npy\")    # (N2, 128, 128)\n",
    "triangle = np.load(\"../data/mini_dataset/triangle/triangle_data_preprocess.npy\")# (N3, 128, 128)\n",
    "\n",
    "print(circle.shape)\n",
    "print(square.shape)\n",
    "print(triangle.shape)"
   ]
  },
  {
   "cell_type": "markdown",
   "id": "1aabc788",
   "metadata": {},
   "source": [
    "Create corresponding labels.\n",
    "Create 3 numpy array:\n",
    "- 1 filled with 0 for circles, the shape is `len(circle)`\n",
    "- 1 filled with 1 for squares, the shape is `len(square)`\n",
    "- 1 filled with 2 for triangles, the shape is `len(triangle)`\n"
   ]
  },
  {
   "cell_type": "code",
   "execution_count": 2,
   "id": "52c8eeb5",
   "metadata": {},
   "outputs": [
    {
     "name": "stdout",
     "output_type": "stream",
     "text": [
      "(14,)\n",
      "(14,)\n",
      "(16,)\n",
      "[0 0 0 0 0 0 0 0 0 0 0 0 0 0]\n",
      "[1 1 1 1 1 1 1 1 1 1 1 1 1 1]\n",
      "[2 2 2 2 2 2 2 2 2 2 2 2 2 2 2 2]\n"
     ]
    }
   ],
   "source": [
    "y_circle = np.zeros(len(circle), dtype=int)           # classe 0\n",
    "y_square = np.ones(len(square), dtype=int)            # classe 1\n",
    "y_triangle = np.full(len(triangle), 2, dtype=int) \n",
    "\n",
    "print(y_circle.shape)\n",
    "print(y_square.shape)\n",
    "print(y_triangle.shape)\n",
    "\n",
    "print(y_circle)\n",
    "print(y_square)\n",
    "print(y_triangle)\n",
    "\n"
   ]
  },
  {
   "cell_type": "markdown",
   "id": "242d685a",
   "metadata": {},
   "source": [
    "Concatenante the 3 arrays to pass from shapes (x,) (y,) (z,) to (x+y+z,)"
   ]
  },
  {
   "cell_type": "code",
   "execution_count": 3,
   "id": "952179f9",
   "metadata": {},
   "outputs": [
    {
     "name": "stdout",
     "output_type": "stream",
     "text": [
      "(44,)\n",
      "[0 0 0 0 0 0 0 0 0 0 0 0 0 0 1 1 1 1 1 1 1 1 1 1 1 1 1 1 2 2 2 2 2 2 2 2 2\n",
      " 2 2 2 2 2 2 2]\n"
     ]
    }
   ],
   "source": [
    "y = np.concatenate([y_circle, y_square, y_triangle], axis=0)\n",
    "print(y.shape)\n",
    "print(y)"
   ]
  },
  {
   "cell_type": "markdown",
   "id": "2adbe023",
   "metadata": {},
   "source": [
    "Concatenate the 3 numpy array to pass from dimensions (x, 128, 128) (y, 128, 128) (y, 128, 128) to 1 array of shape (x+y+z,128, 128)"
   ]
  },
  {
   "cell_type": "code",
   "execution_count": 4,
   "id": "ec7508c0",
   "metadata": {},
   "outputs": [
    {
     "name": "stdout",
     "output_type": "stream",
     "text": [
      "(44, 128, 128)\n"
     ]
    }
   ],
   "source": [
    "X = np.concatenate([circle, square, triangle], axis=0) \n",
    "print(X.shape)"
   ]
  },
  {
   "cell_type": "markdown",
   "id": "323ffbd1",
   "metadata": {},
   "source": [
    "Keras need data in the shape "
   ]
  },
  {
   "cell_type": "code",
   "execution_count": 5,
   "id": "66ff9882",
   "metadata": {},
   "outputs": [
    {
     "name": "stdout",
     "output_type": "stream",
     "text": [
      "(44, 128, 128)\n",
      "(44, 128, 128, 1)\n"
     ]
    }
   ],
   "source": [
    "print(X.shape)\n",
    "X = X[..., np.newaxis]\n",
    "print(X.shape)"
   ]
  },
  {
   "cell_type": "markdown",
   "id": "f55594c7",
   "metadata": {},
   "source": [
    "Shuffle with scikit learn to avoid learning on blocks"
   ]
  },
  {
   "cell_type": "code",
   "execution_count": 6,
   "id": "695f28ff",
   "metadata": {},
   "outputs": [
    {
     "name": "stdout",
     "output_type": "stream",
     "text": [
      "[2 1 1 2 2 2 0 0 0 0 0 1 2 1 1 0 2 1 0 1 2 1 0 2 2 0 0 2 0 2 1 0 2 1 2 0 1\n",
      " 1 2 1 0 1 2 2]\n"
     ]
    }
   ],
   "source": [
    "from sklearn.utils import shuffle\n",
    "\n",
    "X, y = shuffle(X, y, random_state=42)\n",
    "print(y)"
   ]
  },
  {
   "cell_type": "markdown",
   "id": "e57706c0",
   "metadata": {},
   "source": [
    "Split dataset in train and test"
   ]
  },
  {
   "cell_type": "code",
   "execution_count": 7,
   "id": "d980908d",
   "metadata": {},
   "outputs": [
    {
     "name": "stdout",
     "output_type": "stream",
     "text": [
      "(35, 128, 128, 1)\n",
      "(9, 128, 128, 1)\n",
      "(35,)\n",
      "(9,)\n"
     ]
    }
   ],
   "source": [
    "from sklearn.model_selection import train_test_split\n",
    "\n",
    "# Suppose que X et y sont déjà construits\n",
    "X_train, X_test, y_train, y_test = train_test_split(\n",
    "    X, y, \n",
    "    test_size=0.2,         # 20% en test\n",
    "    random_state=42,       # pour reproductibilité\n",
    "    stratify=y             # pour garder la proportion des classes\n",
    ")\n",
    "print(X_train.shape)\n",
    "print(X_test.shape)\n",
    "print(y_train.shape)\n",
    "print(y_test.shape)\n"
   ]
  },
  {
   "cell_type": "markdown",
   "id": "247189ed",
   "metadata": {},
   "source": [
    "Create a CNN 2D Model"
   ]
  },
  {
   "cell_type": "code",
   "execution_count": 8,
   "id": "35c7d550",
   "metadata": {},
   "outputs": [
    {
     "name": "stderr",
     "output_type": "stream",
     "text": [
      "c:\\Users\\cayez\\Documents\\DONNEES_SIMON\\python_env\\donnees\\Lib\\site-packages\\keras\\src\\layers\\convolutional\\base_conv.py:113: UserWarning: Do not pass an `input_shape`/`input_dim` argument to a layer. When using Sequential models, prefer using an `Input(shape)` object as the first layer in the model instead.\n",
      "  super().__init__(activity_regularizer=activity_regularizer, **kwargs)\n"
     ]
    },
    {
     "name": "stdout",
     "output_type": "stream",
     "text": [
      "Epoch 1/10\n",
      "\u001b[1m1/1\u001b[0m \u001b[32m━━━━━━━━━━━━━━━━━━━━\u001b[0m\u001b[37m\u001b[0m \u001b[1m2s\u001b[0m 2s/step - accuracy: 0.3214 - loss: 1.1000 - val_accuracy: 0.2857 - val_loss: 2.1895\n",
      "Epoch 2/10\n",
      "\u001b[1m1/1\u001b[0m \u001b[32m━━━━━━━━━━━━━━━━━━━━\u001b[0m\u001b[37m\u001b[0m \u001b[1m0s\u001b[0m 300ms/step - accuracy: 0.3929 - loss: 1.7965 - val_accuracy: 0.2857 - val_loss: 1.3500\n",
      "Epoch 3/10\n",
      "\u001b[1m1/1\u001b[0m \u001b[32m━━━━━━━━━━━━━━━━━━━━\u001b[0m\u001b[37m\u001b[0m \u001b[1m0s\u001b[0m 303ms/step - accuracy: 0.3214 - loss: 1.2044 - val_accuracy: 0.2857 - val_loss: 1.1456\n",
      "Epoch 4/10\n",
      "\u001b[1m1/1\u001b[0m \u001b[32m━━━━━━━━━━━━━━━━━━━━\u001b[0m\u001b[37m\u001b[0m \u001b[1m0s\u001b[0m 287ms/step - accuracy: 0.3214 - loss: 1.1520 - val_accuracy: 0.2857 - val_loss: 1.1062\n",
      "Epoch 5/10\n",
      "\u001b[1m1/1\u001b[0m \u001b[32m━━━━━━━━━━━━━━━━━━━━\u001b[0m\u001b[37m\u001b[0m \u001b[1m0s\u001b[0m 307ms/step - accuracy: 0.3214 - loss: 1.1262 - val_accuracy: 0.4286 - val_loss: 1.0878\n",
      "Epoch 6/10\n",
      "\u001b[1m1/1\u001b[0m \u001b[32m━━━━━━━━━━━━━━━━━━━━\u001b[0m\u001b[37m\u001b[0m \u001b[1m0s\u001b[0m 308ms/step - accuracy: 0.2857 - loss: 1.1182 - val_accuracy: 0.4286 - val_loss: 1.0886\n",
      "Epoch 7/10\n",
      "\u001b[1m1/1\u001b[0m \u001b[32m━━━━━━━━━━━━━━━━━━━━\u001b[0m\u001b[37m\u001b[0m \u001b[1m0s\u001b[0m 301ms/step - accuracy: 0.2857 - loss: 1.1131 - val_accuracy: 0.4286 - val_loss: 1.0926\n",
      "Epoch 8/10\n",
      "\u001b[1m1/1\u001b[0m \u001b[32m━━━━━━━━━━━━━━━━━━━━\u001b[0m\u001b[37m\u001b[0m \u001b[1m0s\u001b[0m 281ms/step - accuracy: 0.2857 - loss: 1.1046 - val_accuracy: 0.4286 - val_loss: 1.0946\n",
      "Epoch 9/10\n",
      "\u001b[1m1/1\u001b[0m \u001b[32m━━━━━━━━━━━━━━━━━━━━\u001b[0m\u001b[37m\u001b[0m \u001b[1m0s\u001b[0m 301ms/step - accuracy: 0.2857 - loss: 1.1006 - val_accuracy: 0.2857 - val_loss: 1.1007\n",
      "Epoch 10/10\n",
      "\u001b[1m1/1\u001b[0m \u001b[32m━━━━━━━━━━━━━━━━━━━━\u001b[0m\u001b[37m\u001b[0m \u001b[1m0s\u001b[0m 280ms/step - accuracy: 0.3929 - loss: 1.0963 - val_accuracy: 0.2857 - val_loss: 1.1071\n"
     ]
    },
    {
     "data": {
      "image/png": "[encoded data removed]",
      "text/plain": [
       "<Figure size 640x480 with 1 Axes>"
      ]
     },
     "metadata": {},
     "output_type": "display_data"
    }
   ],
   "source": [
    "import numpy as np\n",
    "from tensorflow.keras import layers, models\n",
    "\n",
    "# --- ton modèle ---\n",
    "model = models.Sequential([\n",
    "    layers.Conv2D(32, (3,3), activation='relu', input_shape=(128,128,1)),\n",
    "    layers.MaxPooling2D((2,2)),\n",
    "    layers.Conv2D(64, (3,3), activation='relu'),\n",
    "    layers.MaxPooling2D((2,2)),\n",
    "    layers.Flatten(),\n",
    "    layers.Dense(64, activation='relu'),\n",
    "    layers.Dense(3, activation='softmax')  # 3 classes\n",
    "])\n",
    "\n",
    "model.compile(optimizer='adam',\n",
    "              loss='sparse_categorical_crossentropy',\n",
    "              metrics=['accuracy'])\n",
    "\n",
    "# --- entraînement ---\n",
    "history = model.fit(\n",
    "    X_train, y_train,          # tes données d'entraînement\n",
    "    epochs=10,                 # nombre d'epochs\n",
    "    batch_size=32,             # taille de batch\n",
    "    validation_split=0.2,      # fraction du train utilisée pour validation\n",
    "    verbose=1                  # affiche les métriques\n",
    ")\n",
    "\n",
    "# --- tracé des courbes de métriques ---\n",
    "import matplotlib.pyplot as plt\n",
    "\n",
    "plt.plot(history.history['accuracy'], label='train accuracy')\n",
    "plt.plot(history.history['val_accuracy'], label='val accuracy')\n",
    "plt.xlabel('Epoch')\n",
    "plt.ylabel('Accuracy')\n",
    "plt.legend()\n",
    "plt.show()\n"
   ]
  },
  {
   "cell_type": "code",
   "execution_count": 9,
   "id": "c55db6d4",
   "metadata": {},
   "outputs": [],
   "source": [
    "# import numpy as np\n",
    "# from tensorflow.keras import layers, models\n",
    "\n",
    "\n",
    "\n",
    "# model = models.Sequential([\n",
    "#     layers.Conv2D(32, (3,3), activation='relu', input_shape=(128,128,1)),\n",
    "#     layers.MaxPooling2D((2,2)),\n",
    "#     layers.Conv2D(64, (3,3), activation='relu'),\n",
    "#     layers.MaxPooling2D((2,2)),\n",
    "#     layers.Flatten(),\n",
    "#     layers.Dense(64, activation='relu'),\n",
    "#     layers.Dense(3, activation='softmax')  # 3 classes\n",
    "# ])\n",
    "\n",
    "# model.compile(optimizer='adam',\n",
    "#               loss='sparse_categorical_crossentropy',  # pas de one-hot\n",
    "#               metrics=['accuracy'])\n"
   ]
  }
 ],
 "metadata": {
  "kernelspec": {
   "display_name": "donnees",
   "language": "python",
   "name": "python3"
  },
  "language_info": {
   "codemirror_mode": {
    "name": "ipython",
    "version": 3
   },
   "file_extension": ".py",
   "mimetype": "text/x-python",
   "name": "python",
   "nbconvert_exporter": "python",
   "pygments_lexer": "ipython3",
   "version": "3.12.1"
  }
 },
 "nbformat": 4,
 "nbformat_minor": 5
}
