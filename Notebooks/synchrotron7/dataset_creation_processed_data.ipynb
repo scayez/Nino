{
 "cells": [
  {
   "cell_type": "markdown",
   "id": "8624dfca",
   "metadata": {},
   "source": [
    "Create a dataset from 3 numpy files"
   ]
  },
  {
   "cell_type": "markdown",
   "id": "f87b7d0f",
   "metadata": {},
   "source": [
    "Import numpy file for each shape"
   ]
  },
  {
   "cell_type": "code",
   "execution_count": 1,
   "id": "d8e5c10f",
   "metadata": {},
   "outputs": [
    {
     "name": "stdout",
     "output_type": "stream",
     "text": [
      "(616, 128, 128)\n",
      "(535, 128, 128)\n",
      "(691, 128, 128)\n"
     ]
    }
   ],
   "source": [
    "import numpy as np\n",
    "import os\n",
    "# circle = np.load(\"../data/circle/circle_data_preprocess.npy\")    # (N1, 128, 128)  # (N1, 128, 128)\n",
    "# square = np.load(\"../data/square/square_data_preprocess.npy\")    # (N2, 128, 128)\n",
    "# triangle = np.load(\"../data/mini_dataset/triangle/triangle_data_preprocess.npy\")# (N3, 128, 128)\n",
    "base_dir = \"D:/data_saxs_LPS/reduced_dataset\"\n",
    "\n",
    "path_circle = os.path.join(base_dir,\"circle/circle_data_preprocess.npy\")\n",
    "path_square = os.path.join(base_dir,\"square/square_data_preprocess.npy\")\n",
    "path_triangle = os.path.join(base_dir,\"triangle/triangle_data_preprocess.npy\")\n",
    "\n",
    "\n",
    "\n",
    "# path_circle = \"D:/data_saxs_LPS/reduced_dataset/circle/circle_data_preprocess.npy\"\n",
    "# path_square = \"D:/data_saxs_LPS/reduced_dataset/square/square_data_preprocess.npy\"\n",
    "# path_triangle = \"D:/data_saxs_LPS/reduced_dataset/triangle/triangle_data_preprocess.npy\"\n",
    "\n",
    "circle = np.load(path_circle)\n",
    "square = np.load(path_square)    # (N2, 128, 128)\n",
    "triangle = np.load(path_triangle)# (N3, 128, 128\n",
    "\n",
    "# circle = np.load(\"D:/data_saxs_LPS/reduced_dataset/circle/first_channel.npy\")\n",
    "# square = np.load(\"D:/data_saxs_LPS/reduced_dataset/square/first_channel.npy\")    # (N2, 128, 128)\n",
    "# triangle = np.load(\"D:/data_saxs_LPS/reduced_dataset/triangle/first_channel.npy\")# (N3, 128, 128\n",
    "\n",
    "\n",
    "\n",
    "print(circle.shape)\n",
    "print(square.shape)\n",
    "print(triangle.shape)"
   ]
  },
  {
   "cell_type": "markdown",
   "id": "1aabc788",
   "metadata": {},
   "source": [
    "Create corresponding labels.\n",
    "Create 3 numpy array:\n",
    "- 1 filled with 0 for circles, the shape is `len(circle)`\n",
    "- 1 filled with 1 for squares, the shape is `len(square)`\n",
    "- 1 filled with 2 for triangles, the shape is `len(triangle)`\n"
   ]
  },
  {
   "cell_type": "code",
   "execution_count": 2,
   "id": "52c8eeb5",
   "metadata": {},
   "outputs": [
    {
     "name": "stdout",
     "output_type": "stream",
     "text": [
      "(616,)\n",
      "(535,)\n",
      "(691,)\n"
     ]
    }
   ],
   "source": [
    "y_circle = np.zeros(len(circle), dtype=int)           # classe 0\n",
    "y_square = np.ones(len(square), dtype=int)            # classe 1\n",
    "y_triangle = np.full(len(triangle), 2, dtype=int) \n",
    "\n",
    "print(y_circle.shape)\n",
    "print(y_square.shape)\n",
    "print(y_triangle.shape)"
   ]
  },
  {
   "cell_type": "markdown",
   "id": "242d685a",
   "metadata": {},
   "source": [
    "Concatenante the 3 arrays to pass from shapes (x,) (y,) (z,) to (x+y+z,)"
   ]
  },
  {
   "cell_type": "code",
   "execution_count": 3,
   "id": "952179f9",
   "metadata": {},
   "outputs": [
    {
     "name": "stdout",
     "output_type": "stream",
     "text": [
      "(1842,)\n"
     ]
    }
   ],
   "source": [
    "y = np.concatenate([y_circle, y_square, y_triangle], axis=0)\n",
    "print(y.shape)"
   ]
  },
  {
   "cell_type": "markdown",
   "id": "2adbe023",
   "metadata": {},
   "source": [
    "Concatenate the 3 numpy array to pass from dimensions (x, 128, 128) (y, 128, 128) (y, 128, 128) to 1 array of shape (x+y+z,128, 128)"
   ]
  },
  {
   "cell_type": "code",
   "execution_count": 4,
   "id": "ec7508c0",
   "metadata": {},
   "outputs": [
    {
     "name": "stdout",
     "output_type": "stream",
     "text": [
      "(1842, 128, 128)\n"
     ]
    }
   ],
   "source": [
    "X = np.concatenate([circle, square, triangle], axis=0) \n",
    "print(X.shape)"
   ]
  },
  {
   "cell_type": "markdown",
   "id": "323ffbd1",
   "metadata": {},
   "source": [
    "Keras need data in the shape "
   ]
  },
  {
   "cell_type": "code",
   "execution_count": 5,
   "id": "66ff9882",
   "metadata": {},
   "outputs": [
    {
     "name": "stdout",
     "output_type": "stream",
     "text": [
      "(1842, 128, 128)\n",
      "(1842, 128, 128, 1)\n"
     ]
    }
   ],
   "source": [
    "print(X.shape)\n",
    "X = X[..., np.newaxis]\n",
    "print(X.shape)"
   ]
  },
  {
   "cell_type": "markdown",
   "id": "f9edf3ff",
   "metadata": {},
   "source": [
    "OPTIONAL: Set random seed to (for reproducibility)"
   ]
  },
  {
   "cell_type": "code",
   "execution_count": 6,
   "id": "33f8021f",
   "metadata": {},
   "outputs": [],
   "source": [
    "import random\n",
    "import tensorflow as tf\n",
    "seed = 42\n",
    "np.random.seed(seed)\n",
    "random.seed(seed)\n",
    "tf.random.set_seed(seed)\n",
    "os.environ['PYTHONHASHSEED'] = str(seed)"
   ]
  },
  {
   "cell_type": "markdown",
   "id": "f55594c7",
   "metadata": {},
   "source": [
    "Shuffle with scikit learn to avoid learning on blocks"
   ]
  },
  {
   "cell_type": "code",
   "execution_count": 7,
   "id": "695f28ff",
   "metadata": {},
   "outputs": [
    {
     "name": "stdout",
     "output_type": "stream",
     "text": [
      "[2 2 0 ... 1 2 1]\n"
     ]
    }
   ],
   "source": [
    "from sklearn.utils import shuffle\n",
    "\n",
    "X, y = shuffle(X, y, random_state=seed)\n",
    "print(y)"
   ]
  },
  {
   "cell_type": "markdown",
   "id": "e57706c0",
   "metadata": {},
   "source": [
    "Split dataset in train and test"
   ]
  },
  {
   "cell_type": "code",
   "execution_count": 8,
   "id": "d980908d",
   "metadata": {},
   "outputs": [
    {
     "name": "stdout",
     "output_type": "stream",
     "text": [
      "(1473, 128, 128, 1)\n",
      "(369, 128, 128, 1)\n",
      "(1473,)\n",
      "(369,)\n"
     ]
    }
   ],
   "source": [
    "from sklearn.model_selection import train_test_split\n",
    "\n",
    "# Suppose que X et y sont déjà construits\n",
    "X_train, X_test, y_train, y_test = train_test_split(\n",
    "    X, y, \n",
    "    test_size=0.2,         # 20% en test\n",
    "    random_state=seed,       # pour reproductibilité\n",
    "    stratify=y             # pour garder la proportion des classes\n",
    ")\n",
    "print(X_train.shape)\n",
    "print(X_test.shape)\n",
    "print(y_train.shape)\n",
    "print(y_test.shape)\n"
   ]
  },
  {
   "cell_type": "markdown",
   "id": "247189ed",
   "metadata": {},
   "source": [
    "Create a CNN 2D Model"
   ]
  },
  {
   "cell_type": "code",
   "execution_count": 9,
   "id": "35c7d550",
   "metadata": {},
   "outputs": [
    {
     "name": "stderr",
     "output_type": "stream",
     "text": [
      "c:\\Users\\cayez\\Documents\\DONNEES_SIMON\\python_env\\donnees\\Lib\\site-packages\\keras\\src\\layers\\convolutional\\base_conv.py:113: UserWarning: Do not pass an `input_shape`/`input_dim` argument to a layer. When using Sequential models, prefer using an `Input(shape)` object as the first layer in the model instead.\n",
      "  super().__init__(activity_regularizer=activity_regularizer, **kwargs)\n"
     ]
    }
   ],
   "source": [
    "import numpy as np\n",
    "from tensorflow.keras import layers, models\n",
    "\n",
    "# --- ton modèle ---\n",
    "model = models.Sequential([\n",
    "    layers.Conv2D(32, (3,3), activation='relu', input_shape=(128,128,1)),\n",
    "    layers.MaxPooling2D((2,2)),\n",
    "    layers.Conv2D(64, (3,3), activation='relu'),\n",
    "    layers.MaxPooling2D((2,2)),\n",
    "    layers.Flatten(),\n",
    "    layers.Dense(64, activation='relu'),\n",
    "    layers.Dense(3, activation='softmax')  # 3 classes\n",
    "])\n",
    "\n",
    "model.compile(optimizer='adam',\n",
    "              loss='sparse_categorical_crossentropy',\n",
    "              metrics=['accuracy'])\n",
    "\n",
    "\n"
   ]
  },
  {
   "cell_type": "code",
   "execution_count": 10,
   "id": "d0d670f3",
   "metadata": {},
   "outputs": [
    {
     "name": "stdout",
     "output_type": "stream",
     "text": [
      "Epoch 1/20\n",
      "\u001b[1m19/19\u001b[0m \u001b[32m━━━━━━━━━━━━━━━━━━━━\u001b[0m\u001b[37m\u001b[0m \u001b[1m9s\u001b[0m 422ms/step - accuracy: 0.3450 - loss: 1.1199 - val_accuracy: 0.4203 - val_loss: 1.0796\n",
      "Epoch 2/20\n",
      "\u001b[1m19/19\u001b[0m \u001b[32m━━━━━━━━━━━━━━━━━━━━\u001b[0m\u001b[37m\u001b[0m \u001b[1m8s\u001b[0m 413ms/step - accuracy: 0.3839 - loss: 1.0846 - val_accuracy: 0.4203 - val_loss: 1.0390\n",
      "Epoch 3/20\n",
      "\u001b[1m19/19\u001b[0m \u001b[32m━━━━━━━━━━━━━━━━━━━━\u001b[0m\u001b[37m\u001b[0m \u001b[1m8s\u001b[0m 421ms/step - accuracy: 0.4715 - loss: 1.0404 - val_accuracy: 0.7017 - val_loss: 0.8796\n",
      "Epoch 4/20\n",
      "\u001b[1m19/19\u001b[0m \u001b[32m━━━━━━━━━━━━━━━━━━━━\u001b[0m\u001b[37m\u001b[0m \u001b[1m8s\u001b[0m 415ms/step - accuracy: 0.6586 - loss: 0.8334 - val_accuracy: 0.6881 - val_loss: 0.6596\n",
      "Epoch 5/20\n",
      "\u001b[1m19/19\u001b[0m \u001b[32m━━━━━━━━━━━━━━━━━━━━\u001b[0m\u001b[37m\u001b[0m \u001b[1m8s\u001b[0m 398ms/step - accuracy: 0.7955 - loss: 0.5377 - val_accuracy: 0.7186 - val_loss: 0.5395\n",
      "Epoch 6/20\n",
      "\u001b[1m19/19\u001b[0m \u001b[32m━━━━━━━━━━━━━━━━━━━━\u001b[0m\u001b[37m\u001b[0m \u001b[1m7s\u001b[0m 373ms/step - accuracy: 0.8523 - loss: 0.3798 - val_accuracy: 0.9356 - val_loss: 0.2217\n",
      "Epoch 7/20\n",
      "\u001b[1m19/19\u001b[0m \u001b[32m━━━━━━━━━━━━━━━━━━━━\u001b[0m\u001b[37m\u001b[0m \u001b[1m8s\u001b[0m 439ms/step - accuracy: 0.8685 - loss: 0.2757 - val_accuracy: 0.7864 - val_loss: 0.4739\n",
      "Epoch 8/20\n",
      "\u001b[1m19/19\u001b[0m \u001b[32m━━━━━━━━━━━━━━━━━━━━\u001b[0m\u001b[37m\u001b[0m \u001b[1m7s\u001b[0m 373ms/step - accuracy: 0.8906 - loss: 0.2514 - val_accuracy: 0.9085 - val_loss: 0.2187\n",
      "Epoch 9/20\n",
      "\u001b[1m19/19\u001b[0m \u001b[32m━━━━━━━━━━━━━━━━━━━━\u001b[0m\u001b[37m\u001b[0m \u001b[1m8s\u001b[0m 429ms/step - accuracy: 0.9541 - loss: 0.1639 - val_accuracy: 0.9220 - val_loss: 0.1875\n",
      "Epoch 10/20\n",
      "\u001b[1m19/19\u001b[0m \u001b[32m━━━━━━━━━━━━━━━━━━━━\u001b[0m\u001b[37m\u001b[0m \u001b[1m7s\u001b[0m 393ms/step - accuracy: 0.9379 - loss: 0.1521 - val_accuracy: 0.9661 - val_loss: 0.1359\n",
      "Epoch 11/20\n",
      "\u001b[1m19/19\u001b[0m \u001b[32m━━━━━━━━━━━━━━━━━━━━\u001b[0m\u001b[37m\u001b[0m \u001b[1m7s\u001b[0m 385ms/step - accuracy: 0.9328 - loss: 0.1581 - val_accuracy: 0.8915 - val_loss: 0.2446\n",
      "Epoch 12/20\n",
      "\u001b[1m19/19\u001b[0m \u001b[32m━━━━━━━━━━━━━━━━━━━━\u001b[0m\u001b[37m\u001b[0m \u001b[1m8s\u001b[0m 398ms/step - accuracy: 0.9458 - loss: 0.1446 - val_accuracy: 0.9153 - val_loss: 0.2039\n",
      "Epoch 13/20\n",
      "\u001b[1m19/19\u001b[0m \u001b[32m━━━━━━━━━━━━━━━━━━━━\u001b[0m\u001b[37m\u001b[0m \u001b[1m8s\u001b[0m 395ms/step - accuracy: 0.9500 - loss: 0.1225 - val_accuracy: 0.9186 - val_loss: 0.1995\n",
      "Epoch 14/20\n",
      "\u001b[1m19/19\u001b[0m \u001b[32m━━━━━━━━━━━━━━━━━━━━\u001b[0m\u001b[37m\u001b[0m \u001b[1m8s\u001b[0m 399ms/step - accuracy: 0.9645 - loss: 0.1125 - val_accuracy: 0.9254 - val_loss: 0.1928\n",
      "Epoch 15/20\n",
      "\u001b[1m19/19\u001b[0m \u001b[32m━━━━━━━━━━━━━━━━━━━━\u001b[0m\u001b[37m\u001b[0m \u001b[1m8s\u001b[0m 410ms/step - accuracy: 0.9666 - loss: 0.1033 - val_accuracy: 0.9254 - val_loss: 0.1885\n",
      "Epoch 16/20\n",
      "\u001b[1m19/19\u001b[0m \u001b[32m━━━━━━━━━━━━━━━━━━━━\u001b[0m\u001b[37m\u001b[0m \u001b[1m8s\u001b[0m 400ms/step - accuracy: 0.9699 - loss: 0.1018 - val_accuracy: 0.9424 - val_loss: 0.1657\n",
      "Epoch 17/20\n",
      "\u001b[1m19/19\u001b[0m \u001b[32m━━━━━━━━━━━━━━━━━━━━\u001b[0m\u001b[37m\u001b[0m \u001b[1m8s\u001b[0m 402ms/step - accuracy: 0.9663 - loss: 0.0982 - val_accuracy: 0.9458 - val_loss: 0.1544\n",
      "Epoch 18/20\n",
      "\u001b[1m19/19\u001b[0m \u001b[32m━━━━━━━━━━━━━━━━━━━━\u001b[0m\u001b[37m\u001b[0m \u001b[1m8s\u001b[0m 408ms/step - accuracy: 0.9684 - loss: 0.0941 - val_accuracy: 0.9356 - val_loss: 0.1773\n",
      "Epoch 19/20\n",
      "\u001b[1m19/19\u001b[0m \u001b[32m━━━━━━━━━━━━━━━━━━━━\u001b[0m\u001b[37m\u001b[0m \u001b[1m8s\u001b[0m 411ms/step - accuracy: 0.9659 - loss: 0.0946 - val_accuracy: 0.9220 - val_loss: 0.1974\n",
      "Epoch 20/20\n",
      "\u001b[1m19/19\u001b[0m \u001b[32m━━━━━━━━━━━━━━━━━━━━\u001b[0m\u001b[37m\u001b[0m \u001b[1m8s\u001b[0m 448ms/step - accuracy: 0.9672 - loss: 0.0953 - val_accuracy: 0.9390 - val_loss: 0.1635\n"
     ]
    },
    {
     "data": {
      "image/png": "[encoded data removed]",
      "text/plain": [
       "<Figure size 640x480 with 1 Axes>"
      ]
     },
     "metadata": {},
     "output_type": "display_data"
    }
   ],
   "source": [
    "# --- entraînement ---\n",
    "# history = model.fit(\n",
    "#     X_train, y_train,          # tes données d'entraînement\n",
    "#     epochs=10,                 # nombre d'epochs\n",
    "#     batch_size=32,             # taille de batch\n",
    "#     validation_split=0.2,      # fraction du train utilisée pour validation\n",
    "#     verbose=1                  # affiche les métriques\n",
    "# )\n",
    "history = model.fit(\n",
    "    X_train, y_train,          # tes données d'entraînement\n",
    "    epochs=20,                 # nombre d'epochs\n",
    "    batch_size=64,             # taille de batch\n",
    "    validation_split=0.2,      # fraction du train utilisée pour validation\n",
    "    verbose=1                  # affiche les métriques\n",
    ")\n",
    "\n",
    "# --- tracé des courbes de métriques ---\n",
    "import matplotlib.pyplot as plt\n",
    "\n",
    "plt.plot(history.history['accuracy'], label='train accuracy')\n",
    "plt.plot(history.history['val_accuracy'], label='val accuracy')\n",
    "plt.xlabel('Epoch')\n",
    "plt.ylabel('Accuracy')\n",
    "plt.legend()\n",
    "plt.show()"
   ]
  },
  {
   "cell_type": "markdown",
   "id": "e927fc7a",
   "metadata": {},
   "source": [
    "Predictions "
   ]
  },
  {
   "cell_type": "code",
   "execution_count": 11,
   "id": "24d6d4d2",
   "metadata": {},
   "outputs": [
    {
     "name": "stdout",
     "output_type": "stream",
     "text": [
      "\u001b[1m12/12\u001b[0m \u001b[32m━━━━━━━━━━━━━━━━━━━━\u001b[0m\u001b[37m\u001b[0m \u001b[1m1s\u001b[0m 50ms/step\n",
      "Accuracy sur le jeu de test : 0.935\n",
      "Matrice de confusion :\n",
      "[[123   0   0]\n",
      " [ 18  85   4]\n",
      " [  1   1 137]]\n"
     ]
    },
    {
     "data": {
      "image/png": "[encoded data removed]",
      "text/plain": [
       "<Figure size 600x500 with 2 Axes>"
      ]
     },
     "metadata": {},
     "output_type": "display_data"
    }
   ],
   "source": [
    "from sklearn.metrics import accuracy_score, confusion_matrix\n",
    "import seaborn as sns\n",
    "import matplotlib.pyplot as plt\n",
    "import numpy as np\n",
    "\n",
    "# --- prédiction sur le jeu de test ---\n",
    "y_pred_proba = model.predict(X_test)              # probabilités (nb_images, 3)\n",
    "y_pred = np.argmax(y_pred_proba, axis=1)          # classes prédites (0,1,2)\n",
    "\n",
    "# --- accuracy ---\n",
    "acc = accuracy_score(y_test, y_pred)\n",
    "print(f\"Accuracy sur le jeu de test : {acc:.3f}\")\n",
    "\n",
    "# --- matrice de confusion ---\n",
    "cm = confusion_matrix(y_test, y_pred)\n",
    "print(\"Matrice de confusion :\")\n",
    "print(cm)\n",
    "\n",
    "# --- affichage joli ---\n",
    "plt.figure(figsize=(6,5))\n",
    "sns.heatmap(cm, annot=True, fmt='d', cmap='Blues',\n",
    "            xticklabels=['circle','square','triangle'],\n",
    "            yticklabels=['circle','square','triangle'])\n",
    "plt.xlabel('Prédit')\n",
    "plt.ylabel('Réel')\n",
    "plt.title(f'Matrice de confusion (Accuracy {acc:.2%})')\n",
    "plt.tight_layout()\n",
    "plt.show()\n"
   ]
  },
  {
   "cell_type": "code",
   "execution_count": 12,
   "id": "f0ecba07",
   "metadata": {},
   "outputs": [],
   "source": [
    "\n",
    "# model : ton modèle Keras\n",
    "def model_size_and_params(model, dtype_size=4):\n",
    "    params = model.count_params()\n",
    "    # approx size in bytes (float32 = 4 bytes)\n",
    "    size_bytes = params * dtype_size\n",
    "    size_mb = size_bytes / (1024**2)\n",
    "    return params, size_mb"
   ]
  },
  {
   "cell_type": "code",
   "execution_count": 13,
   "id": "d65825dc",
   "metadata": {},
   "outputs": [
    {
     "name": "stdout",
     "output_type": "stream",
     "text": [
      "Taille circle:   77.00 MB\n",
      "Taille square:   66.88 MB\n",
      "Taille triangle: 86.38 MB\n",
      "Taille totale:   230.25 MB\n"
     ]
    }
   ],
   "source": [
    "import time\n",
    "def file_size_mb(path):\n",
    "    \"\"\"Retourne la taille d’un fichier en MB\"\"\"\n",
    "    return os.path.getsize(path) / (1024 ** 2)\n",
    "\n",
    "circle_size   = file_size_mb(path_circle)\n",
    "square_size   = file_size_mb(path_square)\n",
    "triangle_size = file_size_mb(path_triangle)\n",
    "\n",
    "\n",
    "def measure_inference_time(model, input_shape, n_warmup=10, n_run=100):\n",
    "    # generate random input (batch size 1)\n",
    "    x = np.random.rand(1, *input_shape).astype(np.float32)\n",
    "    # warmup\n",
    "    for _ in range(n_warmup):\n",
    "        _ = model.predict(x, verbose=0)\n",
    "    # timed runs\n",
    "    t0 = time.time()\n",
    "    for _ in range(n_run):\n",
    "        _ = model.predict(x, verbose=0)\n",
    "    t1 = time.time()\n",
    "    avg_ms = (t1 - t0) / n_run * 1000\n",
    "    return avg_ms\n",
    "\n",
    "print(f\"Taille circle:   {circle_size:.2f} MB\")\n",
    "print(f\"Taille square:   {square_size:.2f} MB\")\n",
    "print(f\"Taille triangle: {triangle_size:.2f} MB\")\n",
    "print(f\"Taille totale:   {circle_size + square_size + triangle_size:.2f} MB\")"
   ]
  },
  {
   "cell_type": "code",
   "execution_count": 14,
   "id": "658d5e5a",
   "metadata": {},
   "outputs": [
    {
     "name": "stdout",
     "output_type": "stream",
     "text": [
      "Params: 3705475\n",
      "Model size (MB): 14.135265350341797\n",
      "Taille totale:   230.25 MB\n",
      "Inference ms: 89.48353290557861\n",
      "\u001b[1m16/16\u001b[0m \u001b[32m━━━━━━━━━━━━━━━━━━━━\u001b[0m\u001b[37m\u001b[0m \u001b[1m1s\u001b[0m 91ms/step - accuracy: 0.7054 - loss: 1.0174\n",
      "1 epoch time (s): 1.526953935623169\n",
      "Process RSS (MB): 1870.23828125\n"
     ]
    }
   ],
   "source": [
    "\n",
    "params, model_mb = model_size_and_params(model)\n",
    "print(\"Params:\", params)\n",
    "print(\"Model size (MB):\", model_mb)\n",
    "print(f\"Taille totale:   {circle_size + square_size + triangle_size:.2f} MB\")\n",
    "avg_infer_ms = measure_inference_time(model, X_train.shape[1:])\n",
    "print(\"Inference ms:\", avg_infer_ms)\n",
    "# training time demo (1 epoch)\n",
    "\n",
    "t0 = time.time()\n",
    "model.fit(X_train[:128], y_train[:128], epochs=1, batch_size=8, verbose=1)\n",
    "print(\"1 epoch time (s):\", time.time()-t0)\n",
    "import psutil, os\n",
    "print(\"Process RSS (MB):\", psutil.Process(os.getpid()).memory_info().rss / 1024**2)\n"
   ]
  }
 ],
 "metadata": {
  "kernelspec": {
   "display_name": "donnees",
   "language": "python",
   "name": "python3"
  },
  "language_info": {
   "codemirror_mode": {
    "name": "ipython",
    "version": 3
   },
   "file_extension": ".py",
   "mimetype": "text/x-python",
   "name": "python",
   "nbconvert_exporter": "python",
   "pygments_lexer": "ipython3",
   "version": "3.12.1"
  }
 },
 "nbformat": 4,
 "nbformat_minor": 5
}
